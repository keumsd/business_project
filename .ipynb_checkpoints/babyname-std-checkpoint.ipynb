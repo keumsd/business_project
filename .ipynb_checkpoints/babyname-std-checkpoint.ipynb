{
 "cells": [
  {
   "cell_type": "markdown",
   "metadata": {},
   "source": [
    "# Assignment: due 26th April"
   ]
  },
  {
   "cell_type": "markdown",
   "metadata": {},
   "source": [
    "### US Baby Names 1880-2010"
   ]
  },
  {
   "cell_type": "code",
   "execution_count": 2,
   "metadata": {},
   "outputs": [
    {
     "data": {
      "text/plain": [
       "u'/Users/deoksang/Work/business_analytics'"
      ]
     },
     "execution_count": 2,
     "metadata": {},
     "output_type": "execute_result"
    }
   ],
   "source": [
    "from __future__ import division\n",
    "from numpy.random import randn\n",
    "import numpy as np\n",
    "import os\n",
    "import matplotlib.pyplot as plt\n",
    "import pandas as pd\n",
    "plt.rc('figure', figsize=(12, 5))\n",
    "np.set_printoptions(precision=4)\n",
    "%pwd"
   ]
  },
  {
   "cell_type": "code",
   "execution_count": 3,
   "metadata": {
    "collapsed": true
   },
   "outputs": [],
   "source": [
    "matplotlib inline"
   ]
  },
  {
   "cell_type": "markdown",
   "metadata": {},
   "source": [
    "Q1) Read the 'yob1880.txt' file and show the information in the file. "
   ]
  },
  {
   "cell_type": "code",
   "execution_count": 4,
   "metadata": {},
   "outputs": [
    {
     "name": "stdout",
     "output_type": "stream",
     "text": [
      "        name sex  number\n",
      "0       Mary   F    7065\n",
      "1       Anna   F    2604\n",
      "2       Emma   F    2003\n",
      "3  Elizabeth   F    1939\n",
      "4     Minnie   F    1746\n"
     ]
    },
    {
     "data": {
      "text/html": [
       "<div>\n",
       "<table border=\"1\" class=\"dataframe\">\n",
       "  <thead>\n",
       "    <tr style=\"text-align: right;\">\n",
       "      <th></th>\n",
       "      <th>number</th>\n",
       "    </tr>\n",
       "  </thead>\n",
       "  <tbody>\n",
       "    <tr>\n",
       "      <th>count</th>\n",
       "      <td>2000.000000</td>\n",
       "    </tr>\n",
       "    <tr>\n",
       "      <th>mean</th>\n",
       "      <td>100.743000</td>\n",
       "    </tr>\n",
       "    <tr>\n",
       "      <th>std</th>\n",
       "      <td>466.120297</td>\n",
       "    </tr>\n",
       "    <tr>\n",
       "      <th>min</th>\n",
       "      <td>5.000000</td>\n",
       "    </tr>\n",
       "    <tr>\n",
       "      <th>25%</th>\n",
       "      <td>7.000000</td>\n",
       "    </tr>\n",
       "    <tr>\n",
       "      <th>50%</th>\n",
       "      <td>13.000000</td>\n",
       "    </tr>\n",
       "    <tr>\n",
       "      <th>75%</th>\n",
       "      <td>41.250000</td>\n",
       "    </tr>\n",
       "    <tr>\n",
       "      <th>max</th>\n",
       "      <td>9655.000000</td>\n",
       "    </tr>\n",
       "  </tbody>\n",
       "</table>\n",
       "</div>"
      ],
      "text/plain": [
       "            number\n",
       "count  2000.000000\n",
       "mean    100.743000\n",
       "std     466.120297\n",
       "min       5.000000\n",
       "25%       7.000000\n",
       "50%      13.000000\n",
       "75%      41.250000\n",
       "max    9655.000000"
      ]
     },
     "execution_count": 4,
     "metadata": {},
     "output_type": "execute_result"
    }
   ],
   "source": [
    "df = pd.read_csv('babynames/yob1880.txt', names = ['name', 'sex', 'number'])\n",
    "print(df.head())\n",
    "df.describe()"
   ]
  },
  {
   "cell_type": "markdown",
   "metadata": {},
   "source": [
    "Q2) Show the sum of the births column by sex as the total numer of births in that year. (HINT: Dataframe - Groupby()"
   ]
  },
  {
   "cell_type": "code",
   "execution_count": 5,
   "metadata": {},
   "outputs": [
    {
     "data": {
      "text/html": [
       "<div>\n",
       "<table border=\"1\" class=\"dataframe\">\n",
       "  <thead>\n",
       "    <tr style=\"text-align: right;\">\n",
       "      <th></th>\n",
       "      <th>number</th>\n",
       "    </tr>\n",
       "    <tr>\n",
       "      <th>sex</th>\n",
       "      <th></th>\n",
       "    </tr>\n",
       "  </thead>\n",
       "  <tbody>\n",
       "    <tr>\n",
       "      <th>F</th>\n",
       "      <td>90993</td>\n",
       "    </tr>\n",
       "    <tr>\n",
       "      <th>M</th>\n",
       "      <td>110493</td>\n",
       "    </tr>\n",
       "  </tbody>\n",
       "</table>\n",
       "</div>"
      ],
      "text/plain": [
       "     number\n",
       "sex        \n",
       "F     90993\n",
       "M    110493"
      ]
     },
     "execution_count": 5,
     "metadata": {},
     "output_type": "execute_result"
    }
   ],
   "source": [
    "df.groupby('sex').sum()"
   ]
  },
  {
   "cell_type": "markdown",
   "metadata": {},
   "source": [
    "Since the data set is split into files by year, one of the first things to do is to assemble all of the data into a single DataFrame and further to add a year field. This is easy to do using pandas.concat:"
   ]
  },
  {
   "cell_type": "code",
   "execution_count": 6,
   "metadata": {
    "collapsed": true
   },
   "outputs": [],
   "source": [
    "# 2010 is the last available year right now\n",
    "years = range(1880, 2011)\n",
    "\n",
    "pieces = []\n",
    "columns = ['name', 'sex', 'births']\n",
    "\n",
    "for year in years:\n",
    "    path = 'babynames/yob%d.txt' % year\n",
    "    frame = pd.read_csv(path, names=columns)\n",
    "    frame['year'] = year\n",
    "    pieces.append(frame)\n",
    "\n",
    "# Concatenate everything into a single DataFrame\n",
    "names = pd.concat(pieces, ignore_index=True)"
   ]
  },
  {
   "cell_type": "markdown",
   "metadata": {},
   "source": [
    "Q3) With this data in hand, please aggreate the data at the year and sex level using groupby or pivot_table and plot total birth by sex and year. "
   ]
  },
  {
   "cell_type": "code",
   "execution_count": 7,
   "metadata": {
    "collapsed": true
   },
   "outputs": [],
   "source": [
    "names_sex_year = names.groupby(['sex', 'year']).sum().reset_index()"
   ]
  },
  {
   "cell_type": "code",
   "execution_count": 8,
   "metadata": {},
   "outputs": [
    {
     "data": {
      "image/png": "[encoded data removed]",
      "text/plain": [
       "<matplotlib.figure.Figure at 0x11080afd0>"
      ]
     },
     "metadata": {},
     "output_type": "display_data"
    }
   ],
   "source": [
    "female_names = names_sex_year[names_sex_year['sex'] == 'F']\n",
    "male_names = names_sex_year[names_sex_year['sex'] == 'M']\n",
    "plt.plot(female_names['year'], female_names['births'], label = 'female')\n",
    "plt.plot(male_names['year'], male_names['births'], label = 'male')\n",
    "plt.legend(loc = 'best')\n",
    "plt.show()"
   ]
  },
  {
   "cell_type": "markdown",
   "metadata": {},
   "source": [
    "Let's insert a column 'prop' which the fraction of babies given each name relative to the total number of births. A 'prop' value of 0.02 would indicate that 2 out of every 100 babies was given a particular name.\n",
    "\n",
    "Q4) Please group the data by year and sex (using groupby()), then add the new column to each group. "
   ]
  },
  {
   "cell_type": "code",
   "execution_count": 9,
   "metadata": {},
   "outputs": [
    {
     "data": {
      "text/html": [
       "<div>\n",
       "<table border=\"1\" class=\"dataframe\">\n",
       "  <thead>\n",
       "    <tr style=\"text-align: right;\">\n",
       "      <th></th>\n",
       "      <th>sex</th>\n",
       "      <th>year</th>\n",
       "      <th>births</th>\n",
       "      <th>prop</th>\n",
       "    </tr>\n",
       "  </thead>\n",
       "  <tbody>\n",
       "    <tr>\n",
       "      <th>0</th>\n",
       "      <td>F</td>\n",
       "      <td>1880</td>\n",
       "      <td>90993</td>\n",
       "      <td>0.000282</td>\n",
       "    </tr>\n",
       "    <tr>\n",
       "      <th>1</th>\n",
       "      <td>F</td>\n",
       "      <td>1881</td>\n",
       "      <td>91955</td>\n",
       "      <td>0.000285</td>\n",
       "    </tr>\n",
       "    <tr>\n",
       "      <th>2</th>\n",
       "      <td>F</td>\n",
       "      <td>1882</td>\n",
       "      <td>107851</td>\n",
       "      <td>0.000335</td>\n",
       "    </tr>\n",
       "    <tr>\n",
       "      <th>3</th>\n",
       "      <td>F</td>\n",
       "      <td>1883</td>\n",
       "      <td>112322</td>\n",
       "      <td>0.000348</td>\n",
       "    </tr>\n",
       "    <tr>\n",
       "      <th>4</th>\n",
       "      <td>F</td>\n",
       "      <td>1884</td>\n",
       "      <td>129021</td>\n",
       "      <td>0.000400</td>\n",
       "    </tr>\n",
       "  </tbody>\n",
       "</table>\n",
       "</div>"
      ],
      "text/plain": [
       "  sex  year  births      prop\n",
       "0   F  1880   90993  0.000282\n",
       "1   F  1881   91955  0.000285\n",
       "2   F  1882  107851  0.000335\n",
       "3   F  1883  112322  0.000348\n",
       "4   F  1884  129021  0.000400"
      ]
     },
     "execution_count": 9,
     "metadata": {},
     "output_type": "execute_result"
    }
   ],
   "source": [
    "total_count = names_sex_year.sum()['births']\n",
    "names_sex_year['prop'] = names_sex_year['births'] / total_count\n",
    "names_sex_year.head()"
   ]
  },
  {
   "cell_type": "markdown",
   "metadata": {},
   "source": [
    "Let's extract a subset of the data to facilitate further analysis.\n",
    "\n",
    "Q5) Please extract the top 1000 names for each sex/year cominations."
   ]
  },
  {
   "cell_type": "code",
   "execution_count": 10,
   "metadata": {
    "collapsed": true
   },
   "outputs": [],
   "source": [
    "In [60]: names_sex_year_1000 = names.groupby(['sex','year','name']).sum()\n",
    "names_sex_year_1000 = names_sex_year_1000['births'].groupby(level=[0,1],group_keys=False)\n",
    "names_sex_year_1000 = names_sex_year_1000.nlargest(1000)\n",
    "names_sex_year_1000 = names_sex_year_1000.reset_index()"
   ]
  },
  {
   "cell_type": "markdown",
   "metadata": {},
   "source": [
    "### Analyzing naming trends"
   ]
  },
  {
   "cell_type": "markdown",
   "metadata": {},
   "source": [
    "With the full data set and Top 1,000 data set in hand, we can start analyzing various naming trends of interst.\n",
    "\n",
    "Q6) Split the Top 1,000 names into the boy and girl proportions."
   ]
  },
  {
   "cell_type": "code",
   "execution_count": 11,
   "metadata": {
    "collapsed": true
   },
   "outputs": [],
   "source": [
    "names_sex_year_1000_M = names_sex_year_1000[names_sex_year_1000['sex'] == 'M']\n",
    "names_sex_year_1000_F = names_sex_year_1000[names_sex_year_1000['sex'] == 'F']"
   ]
  },
  {
   "cell_type": "markdown",
   "metadata": {},
   "source": [
    "Q7) Let's form a pivot table of the total number of births by year and name."
   ]
  },
  {
   "cell_type": "code",
   "execution_count": 12,
   "metadata": {},
   "outputs": [
    {
     "data": {
      "text/html": [
       "<div>\n",
       "<table border=\"1\" class=\"dataframe\">\n",
       "  <thead>\n",
       "    <tr style=\"text-align: right;\">\n",
       "      <th></th>\n",
       "      <th>name</th>\n",
       "      <th>sex</th>\n",
       "      <th>births</th>\n",
       "      <th>year</th>\n",
       "    </tr>\n",
       "  </thead>\n",
       "  <tbody>\n",
       "    <tr>\n",
       "      <th>0</th>\n",
       "      <td>Mary</td>\n",
       "      <td>F</td>\n",
       "      <td>7065</td>\n",
       "      <td>1880</td>\n",
       "    </tr>\n",
       "    <tr>\n",
       "      <th>1</th>\n",
       "      <td>Anna</td>\n",
       "      <td>F</td>\n",
       "      <td>2604</td>\n",
       "      <td>1880</td>\n",
       "    </tr>\n",
       "    <tr>\n",
       "      <th>2</th>\n",
       "      <td>Emma</td>\n",
       "      <td>F</td>\n",
       "      <td>2003</td>\n",
       "      <td>1880</td>\n",
       "    </tr>\n",
       "    <tr>\n",
       "      <th>3</th>\n",
       "      <td>Elizabeth</td>\n",
       "      <td>F</td>\n",
       "      <td>1939</td>\n",
       "      <td>1880</td>\n",
       "    </tr>\n",
       "    <tr>\n",
       "      <th>4</th>\n",
       "      <td>Minnie</td>\n",
       "      <td>F</td>\n",
       "      <td>1746</td>\n",
       "      <td>1880</td>\n",
       "    </tr>\n",
       "  </tbody>\n",
       "</table>\n",
       "</div>"
      ],
      "text/plain": [
       "        name sex  births  year\n",
       "0       Mary   F    7065  1880\n",
       "1       Anna   F    2604  1880\n",
       "2       Emma   F    2003  1880\n",
       "3  Elizabeth   F    1939  1880\n",
       "4     Minnie   F    1746  1880"
      ]
     },
     "execution_count": 12,
     "metadata": {},
     "output_type": "execute_result"
    }
   ],
   "source": [
    "table = pd.pivot_table(names, values = 'births', index = ['year', 'name'])\n",
    "names.head()\n",
    "# table"
   ]
  },
  {
   "cell_type": "markdown",
   "metadata": {},
   "source": [
    "Q8) We would like to investigate the names of 'John', 'Harry', 'Mary', 'Marilyn'. Please plot the number of births over time for the names (draw four figures)."
   ]
  },
  {
   "cell_type": "code",
   "execution_count": 14,
   "metadata": {
    "collapsed": true
   },
   "outputs": [],
   "source": [
    "births_year_name = names.groupby(['year', 'name']).sum()\n",
    "# births_year_name_john = births_year_name[births_year_name['name'] == 'John']\n",
    "# births_year_name_harry = births_year_name[births_year_name['name'] == 'Harry']\n",
    "# births_year_name_mary = births_year_name[births_year_name['name'] == 'Mary']\n",
    "# births_year_name_marilyn = births_year_name[births_year_name['name'] == 'Marilyn']\n",
    "\n",
    "# f, axarr = plt.subplots(4, sharex=True, figsize=(20, 14))\n",
    "# axarr[0].plot(births_year_name_john['year'], births_year_name_john['births'], label = 'John')\n",
    "# axarr[1].plot(births_year_name_harry['year'], births_year_name_harry['births'], label = 'Harry')\n",
    "# axarr[2].plot(births_year_name_mary['year'], births_year_name_mary['births'], label = 'Mary')\n",
    "# axarr[3].plot(births_year_name_marilyn['year'], births_year_name_marilyn['births'], label = 'Marilyn')\n",
    "\n",
    "# plt.show()"
   ]
  },
  {
   "cell_type": "markdown",
   "metadata": {},
   "source": [
    "#### Measuring the increase in naming diversity"
   ]
  },
  {
   "cell_type": "markdown",
   "metadata": {},
   "source": [
    "One explanation for the decrease in the plots above (Q8) is that fewer parents are choosing comman names for their children. This hypothesis can be explored and confirmed in the data. \n",
    "\n",
    "Q9) Please plot the proportion of births represened by the top 1000 most popular names by year and sex. "
   ]
  },
  {
   "cell_type": "code",
   "execution_count": 15,
   "metadata": {},
   "outputs": [
    {
     "name": "stderr",
     "output_type": "stream",
     "text": [
      "/usr/local/lib/python2.7/site-packages/ipykernel_launcher.py:9: SettingWithCopyWarning: \n",
      "A value is trying to be set on a copy of a slice from a DataFrame.\n",
      "Try using .loc[row_indexer,col_indexer] = value instead\n",
      "\n",
      "See the caveats in the documentation: http://pandas.pydata.org/pandas-docs/stable/indexing.html#indexing-view-versus-copy\n",
      "  if __name__ == '__main__':\n",
      "/usr/local/lib/python2.7/site-packages/ipykernel_launcher.py:10: SettingWithCopyWarning: \n",
      "A value is trying to be set on a copy of a slice from a DataFrame.\n",
      "Try using .loc[row_indexer,col_indexer] = value instead\n",
      "\n",
      "See the caveats in the documentation: http://pandas.pydata.org/pandas-docs/stable/indexing.html#indexing-view-versus-copy\n",
      "  # Remove the CWD from sys.path while we load stuff.\n"
     ]
    },
    {
     "data": {
      "image/png": "[encoded data removed]",
      "text/plain": [
       "<matplotlib.figure.Figure at 0x1097eb0d0>"
      ]
     },
     "metadata": {},
     "output_type": "display_data"
    }
   ],
   "source": [
    "births_sex_year = names.groupby(['sex', 'year']).sum().reset_index()\n",
    "births_sex_year_1000 = names_sex_year_1000.groupby(['sex', 'year']).sum().reset_index()\n",
    "\n",
    "births_sex_year_M = births_sex_year[births_sex_year['sex'] == 'M']\n",
    "births_sex_year_F = births_sex_year[births_sex_year['sex'] == 'F']\n",
    "births_sex_year_1000_M = births_sex_year_1000[births_sex_year_1000['sex'] == 'M']\n",
    "births_sex_year_1000_F = births_sex_year_1000[births_sex_year_1000['sex'] == 'F']\n",
    "\n",
    "births_sex_year_1000_M['ratio'] = births_sex_year_1000_M['births'].div(births_sex_year_M['births'])\n",
    "births_sex_year_1000_F['ratio'] = births_sex_year_1000_F['births'].div(births_sex_year_F['births'])\n",
    "\n",
    "plt.plot(births_sex_year_1000_M['year'], births_sex_year_1000_M['ratio'], label = 'Male')\n",
    "plt.plot(births_sex_year_1000_F['year'], births_sex_year_1000_F['ratio'], label = 'Female')\n",
    "\n",
    "plt.yticks(np.arange(0, 1.3, 0.1))\n",
    "plt.legend(loc = 'best')\n",
    "plt.show()"
   ]
  },
  {
   "cell_type": "markdown",
   "metadata": {},
   "source": [
    "Q10) Another intersting measure is the number of distinct names, taken in order of popularity from highest to lowest, in the top 50% of births. Please plot number of popular names in top 50% for male and femail."
   ]
  },
  {
   "cell_type": "code",
   "execution_count": 16,
   "metadata": {},
   "outputs": [
    {
     "data": {
      "image/png": "[encoded data removed]",
      "text/plain": [
       "<matplotlib.figure.Figure at 0x10a189cd0>"
      ]
     },
     "metadata": {},
     "output_type": "display_data"
    }
   ],
   "source": [
    "names_sex_year_1000['cum_births'] = names_sex_year_1000.groupby(['sex', 'year']).cumsum()\n",
    "births_sex_year = names.groupby(['sex', 'year']).sum()\n",
    "births_sex_year = births_sex_year.reset_index()\n",
    "births_sex_year = births_sex_year.set_index(['sex', 'year'])\n",
    "temp = names_sex_year_1000.groupby(['sex', 'year']).apply(lambda x: x['cum_births'] / births_sex_year.loc[x['sex'].tolist()[0], x['year'].tolist()[0]]['births'])\n",
    "names_sex_year_1000['ratio'] = temp.tolist()\n",
    "names_sex_year_1000_half = names_sex_year_1000[names_sex_year_1000['ratio'] < 0.5]\n",
    "names_sex_year_1000_half_M = names_sex_year_1000_half[names_sex_year_1000_half['sex'] == 'M']\n",
    "names_sex_year_1000_half_F = names_sex_year_1000_half[names_sex_year_1000_half['sex'] == 'F']\n",
    "names_sex_year_1000_half_M[names_sex_year_1000_half_M['year'] == 2010]\n",
    "names_sex_year_1000_half_M.groupby('year').count()['name'].plot(label = 'Male')\n",
    "names_sex_year_1000_half_F.groupby('year').count()['name'].plot(label = 'Female')\n",
    "plt.legend(loc = 'best')\n",
    "plt.show()"
   ]
  },
  {
   "cell_type": "markdown",
   "metadata": {},
   "source": [
    "#### The \"Last letter\" Revolution"
   ]
  },
  {
   "cell_type": "markdown",
   "metadata": {},
   "source": [
    "In 2007, a baby name researcher Laura Wattenberg pointed out on her website (http://www.babynamewizard.com) that the distribution of boy names by final letter has changed significanlty over the last 100 years. \n",
    "\n",
    "Q11) To see this, please aggregate all of the births in the full data set by year, sex, and final letter."
   ]
  },
  {
   "cell_type": "code",
   "execution_count": 17,
   "metadata": {
    "collapsed": true
   },
   "outputs": [],
   "source": [
    "names['final_name'] = names['name'].apply(lambda x: x[len(x) - 1])\n",
    "names_sex_year = names.groupby(['sex', 'year', 'final_name']).sum().reset_index()"
   ]
  },
  {
   "cell_type": "markdown",
   "metadata": {},
   "source": [
    "Q12) Plot a proportion of boy names ending in each letter in 2010."
   ]
  },
  {
   "cell_type": "code",
   "execution_count": 18,
   "metadata": {},
   "outputs": [
    {
     "name": "stderr",
     "output_type": "stream",
     "text": [
      "/usr/local/lib/python2.7/site-packages/ipykernel_launcher.py:7: SettingWithCopyWarning: \n",
      "A value is trying to be set on a copy of a slice from a DataFrame.\n",
      "Try using .loc[row_indexer,col_indexer] = value instead\n",
      "\n",
      "See the caveats in the documentation: http://pandas.pydata.org/pandas-docs/stable/indexing.html#indexing-view-versus-copy\n",
      "  import sys\n",
      "/usr/local/lib/python2.7/site-packages/ipykernel_launcher.py:8: SettingWithCopyWarning: \n",
      "A value is trying to be set on a copy of a slice from a DataFrame.\n",
      "Try using .loc[row_indexer,col_indexer] = value instead\n",
      "\n",
      "See the caveats in the documentation: http://pandas.pydata.org/pandas-docs/stable/indexing.html#indexing-view-versus-copy\n",
      "  \n"
     ]
    },
    {
     "data": {
      "text/plain": [
       "<matplotlib.axes._subplots.AxesSubplot at 0x10ccd6c90>"
      ]
     },
     "execution_count": 18,
     "metadata": {},
     "output_type": "execute_result"
    },
    {
     "data": {
      "image/png": "[encoded data removed]",
      "text/plain": [
       "<matplotlib.figure.Figure at 0x10d25ea90>"
      ]
     },
     "metadata": {},
     "output_type": "display_data"
    },
    {
     "data": {
      "image/png": "[encoded data removed]",
      "text/plain": [
       "<matplotlib.figure.Figure at 0x10d25ea50>"
      ]
     },
     "metadata": {},
     "output_type": "display_data"
    }
   ],
   "source": [
    "names_sex_year_M = names_sex_year[names_sex_year['sex'] == 'M']\n",
    "names_sex_year_F = names_sex_year[names_sex_year['sex'] == 'F']\n",
    "names_sex_year_M_2010 = names_sex_year_M[names_sex_year_M['year'] == 2010]\n",
    "names_sex_year_F_2010 = names_sex_year_F[names_sex_year_F['year'] == 2010]\n",
    "total_count_M_2010 = names_sex_year_M_2010.sum()['births']\n",
    "total_count_F_2010 = names_sex_year_F_2010.sum()['births']\n",
    "names_sex_year_M_2010['ratio'] = names_sex_year_M_2010['births'] / total_count_M_2010\n",
    "names_sex_year_F_2010['ratio'] = names_sex_year_F_2010['births'] / total_count_F_2010\n",
    "names_sex_year_M_2010 = names_sex_year_M_2010[['final_name', 'ratio']].set_index('final_name')\n",
    "names_sex_year_F_2010 = names_sex_year_F_2010[['final_name', 'ratio']].set_index('final_name')\n",
    "names_sex_year_M_2010.plot(kind = 'bar')\n",
    "names_sex_year_F_2010.plot(kind = 'bar')"
   ]
  },
  {
   "cell_type": "markdown",
   "metadata": {},
   "source": [
    "Q13) Plot a proportion of boy born with names ending in d/n/y over time."
   ]
  },
  {
   "cell_type": "code",
   "execution_count": 19,
   "metadata": {},
   "outputs": [
    {
     "data": {
      "image/png": "[encoded data removed]",
      "text/plain": [
       "<matplotlib.figure.Figure at 0x10c33fa10>"
      ]
     },
     "metadata": {},
     "output_type": "display_data"
    }
   ],
   "source": [
    "names_sex_year_M_d = names_sex_year_M[names_sex_year_M['final_name'] == 'd'].set_index('year')\n",
    "names_sex_year_M_n = names_sex_year_M[names_sex_year_M['final_name'] == 'n'].set_index('year')\n",
    "names_sex_year_M_y = names_sex_year_M[names_sex_year_M['final_name'] == 'y'].set_index('year')\n",
    "births_sex_year = births_sex_year.reset_index()\n",
    "births_year_M = births_sex_year[births_sex_year['sex'] == 'F'][['year', 'births']].set_index('year')\n",
    "\n",
    "names_sex_year_M_d['ratio'] = names_sex_year_M_d['births'] / births_year_M['births']\n",
    "names_sex_year_M_n['ratio'] = names_sex_year_M_n['births'] / births_year_M['births']\n",
    "names_sex_year_M_y['ratio'] = names_sex_year_M_y['births'] / births_year_M['births']\n",
    "\n",
    "names_sex_year_M_d['ratio'].plot()\n",
    "names_sex_year_M_n['ratio'].plot()\n",
    "names_sex_year_M_y['ratio'].plot()\n",
    "plt.show()"
   ]
  },
  {
   "cell_type": "markdown",
   "metadata": {},
   "source": [
    "#### Boy names that became girl names (and vice versa)"
   ]
  },
  {
   "cell_type": "markdown",
   "metadata": {},
   "source": [
    "Another fun trend is looking at boy names that were more popular with one sex eariler in the sample but have \"changed sexes\" in the present. One example is the name \"Lesley\" or \"Leslie\". \n",
    "\n",
    "Q14) With the top 1000 dataset, please compute the list of names occuring in the dataset starting with 'lesl'. "
   ]
  },
  {
   "cell_type": "code",
   "execution_count": 30,
   "metadata": {},
   "outputs": [
    {
     "data": {
      "text/plain": [
       "name            Leslie\n",
       "births             155\n",
       "cum_births       87916\n",
       "ratio         0.794972\n",
       "Name: (M, 1889), dtype: object"
      ]
     },
     "execution_count": 30,
     "metadata": {},
     "output_type": "execute_result"
    }
   ],
   "source": [
    "names_sex_year_1000_lesl = names_sex_year_1000[names_sex_year_1000['name'].str.startswith('Leslie')]\n",
    "names_sex_year_1000_lesl = names_sex_year_1000_lesl.set_index(['sex', 'year'])\n",
    "names_sex_year_1000_lesl.loc['M', 1889]\n"
   ]
  },
  {
   "cell_type": "markdown",
   "metadata": {},
   "source": [
    "Q15) Let's filter down to just the names in Q14 and sum births grouped by name to see the relative frequencies. Then, please aggregate by sex and year and normalize within year. Finally, please make a plot of the breadkown by sex over time. "
   ]
  },
  {
   "cell_type": "code",
   "execution_count": 122,
   "metadata": {},
   "outputs": [
    {
     "name": "stderr",
     "output_type": "stream",
     "text": [
      "/usr/local/lib/python2.7/site-packages/ipykernel_launcher.py:7: SettingWithCopyWarning: \n",
      "A value is trying to be set on a copy of a slice from a DataFrame.\n",
      "Try using .loc[row_indexer,col_indexer] = value instead\n",
      "\n",
      "See the caveats in the documentation: http://pandas.pydata.org/pandas-docs/stable/indexing.html#indexing-view-versus-copy\n",
      "  import sys\n",
      "/usr/local/lib/python2.7/site-packages/ipykernel_launcher.py:8: SettingWithCopyWarning: \n",
      "A value is trying to be set on a copy of a slice from a DataFrame.\n",
      "Try using .loc[row_indexer,col_indexer] = value instead\n",
      "\n",
      "See the caveats in the documentation: http://pandas.pydata.org/pandas-docs/stable/indexing.html#indexing-view-versus-copy\n",
      "  \n"
     ]
    },
    {
     "data": {
      "image/png": "[encoded data removed]",
      "text/plain": [
       "<matplotlib.figure.Figure at 0x124034ad0>"
      ]
     },
     "metadata": {},
     "output_type": "display_data"
    }
   ],
   "source": [
    "names_sex_year_1000_lesl_M = names_sex_year_1000_lesl[names_sex_year_1000_lesl['sex'] == 'M']\n",
    "names_sex_year_1000_lesl_F = names_sex_year_1000_lesl[names_sex_year_1000_lesl['sex'] == 'F']\n",
    "\n",
    "temp = names_sex_year_1000_lesl[['sex', 'year', 'births']]\n",
    "sum = temp.groupby('year').sum()['births']\n",
    "\n",
    "names_sex_year_1000_lesl_M['ratio'] = names_sex_year_1000_lesl_M.apply(lambda x: x['births'] / sum[x['year']], axis=1)\n",
    "names_sex_year_1000_lesl_F['ratio'] = names_sex_year_1000_lesl_F.apply(lambda x: x['births'] / sum[x['year']], axis=1)\n",
    "names_sex_year_1000_lesl_M = names_sex_year_1000_lesl_M.set_index('year')\n",
    "names_sex_year_1000_lesl_F = names_sex_year_1000_lesl_F.set_index('year')\n",
    "names_sex_year_1000_lesl_M['ratio'].plot(label = 'Male')\n",
    "names_sex_year_1000_lesl_F['ratio'].plot(label = 'Female')\n",
    "plt.legend(loc = 'best')\n",
    "plt.show()"
   ]
  },
  {
   "cell_type": "code",
   "execution_count": null,
   "metadata": {
    "collapsed": true
   },
   "outputs": [],
   "source": []
  }
 ],
 "metadata": {
  "kernelspec": {
   "display_name": "Python 2",
   "language": "python",
   "name": "python2"
  },
  "language_info": {
   "codemirror_mode": {
    "name": "ipython",
    "version": 2
   },
   "file_extension": ".py",
   "mimetype": "text/x-python",
   "name": "python",
   "nbconvert_exporter": "python",
   "pygments_lexer": "ipython2",
   "version": "2.7.13"
  }
 },
 "nbformat": 4,
 "nbformat_minor": 1
}
