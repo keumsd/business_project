{
 "cells": [
  {
   "cell_type": "markdown",
   "metadata": {},
   "source": [
    "# Plotting and Visualization"
   ]
  },
  {
   "cell_type": "code",
   "execution_count": 3,
   "metadata": {},
   "outputs": [],
   "source": [
    "from __future__ import division\n",
    "from numpy.random import randn\n",
    "import numpy as np\n",
    "import os\n",
    "import matplotlib.pyplot as plt\n",
    "np.random.seed(12345)\n",
    "plt.rc('figure', figsize=(10, 6))\n",
    "from pandas import Series, DataFrame\n",
    "import pandas as pd\n",
    "np.set_printoptions(precision=4)"
   ]
  },
  {
   "cell_type": "code",
   "execution_count": 4,
   "metadata": {
    "collapsed": true
   },
   "outputs": [],
   "source": [
    "matplotlib inline"
   ]
  },
  {
   "cell_type": "code",
   "execution_count": 5,
   "metadata": {},
   "outputs": [
    {
     "data": {
      "text/plain": [
       "u'/Users/deoksang/Work/business_analytics/sberbank_project'"
      ]
     },
     "execution_count": 5,
     "metadata": {},
     "output_type": "execute_result"
    }
   ],
   "source": [
    "pwd"
   ]
  },
  {
   "cell_type": "markdown",
   "metadata": {},
   "source": [
    "## A brief matplotlib API primer"
   ]
  },
  {
   "cell_type": "markdown",
   "metadata": {},
   "source": [
    "## FIRST STEP"
   ]
  },
  {
   "cell_type": "markdown",
   "metadata": {},
   "source": [
    "We assume that you have already download the dataset. We need to first unzip the file.\n",
    "\n",
    "Q1)Please read the data files."
   ]
  },
  {
   "cell_type": "code",
   "execution_count": 6,
   "metadata": {},
   "outputs": [
    {
     "ename": "IOError",
     "evalue": "File donations.csv does not exist",
     "output_type": "error",
     "traceback": [
      "\u001b[0;31m---------------------------------------------------------------------------\u001b[0m",
      "\u001b[0;31mIOError\u001b[0m                                   Traceback (most recent call last)",
      "\u001b[0;32m<ipython-input-6-30c2055554ef>\u001b[0m in \u001b[0;36m<module>\u001b[0;34m()\u001b[0m\n\u001b[0;32m----> 1\u001b[0;31m \u001b[0mdf\u001b[0m \u001b[0;34m=\u001b[0m \u001b[0mpd\u001b[0m\u001b[0;34m.\u001b[0m\u001b[0mread_csv\u001b[0m\u001b[0;34m(\u001b[0m\u001b[0;34m\"donations.csv\"\u001b[0m\u001b[0;34m)\u001b[0m\u001b[0;34m\u001b[0m\u001b[0m\n\u001b[0m",
      "\u001b[0;32m/usr/local/lib/python2.7/site-packages/pandas/io/parsers.pyc\u001b[0m in \u001b[0;36mparser_f\u001b[0;34m(filepath_or_buffer, sep, delimiter, header, names, index_col, usecols, squeeze, prefix, mangle_dupe_cols, dtype, engine, converters, true_values, false_values, skipinitialspace, skiprows, nrows, na_values, keep_default_na, na_filter, verbose, skip_blank_lines, parse_dates, infer_datetime_format, keep_date_col, date_parser, dayfirst, iterator, chunksize, compression, thousands, decimal, lineterminator, quotechar, quoting, escapechar, comment, encoding, dialect, tupleize_cols, error_bad_lines, warn_bad_lines, skipfooter, skip_footer, doublequote, delim_whitespace, as_recarray, compact_ints, use_unsigned, low_memory, buffer_lines, memory_map, float_precision)\u001b[0m\n\u001b[1;32m    644\u001b[0m                     skip_blank_lines=skip_blank_lines)\n\u001b[1;32m    645\u001b[0m \u001b[0;34m\u001b[0m\u001b[0m\n\u001b[0;32m--> 646\u001b[0;31m         \u001b[0;32mreturn\u001b[0m \u001b[0m_read\u001b[0m\u001b[0;34m(\u001b[0m\u001b[0mfilepath_or_buffer\u001b[0m\u001b[0;34m,\u001b[0m \u001b[0mkwds\u001b[0m\u001b[0;34m)\u001b[0m\u001b[0;34m\u001b[0m\u001b[0m\n\u001b[0m\u001b[1;32m    647\u001b[0m \u001b[0;34m\u001b[0m\u001b[0m\n\u001b[1;32m    648\u001b[0m     \u001b[0mparser_f\u001b[0m\u001b[0;34m.\u001b[0m\u001b[0m__name__\u001b[0m \u001b[0;34m=\u001b[0m \u001b[0mname\u001b[0m\u001b[0;34m\u001b[0m\u001b[0m\n",
      "\u001b[0;32m/usr/local/lib/python2.7/site-packages/pandas/io/parsers.pyc\u001b[0m in \u001b[0;36m_read\u001b[0;34m(filepath_or_buffer, kwds)\u001b[0m\n\u001b[1;32m    387\u001b[0m \u001b[0;34m\u001b[0m\u001b[0m\n\u001b[1;32m    388\u001b[0m     \u001b[0;31m# Create the parser.\u001b[0m\u001b[0;34m\u001b[0m\u001b[0;34m\u001b[0m\u001b[0m\n\u001b[0;32m--> 389\u001b[0;31m     \u001b[0mparser\u001b[0m \u001b[0;34m=\u001b[0m \u001b[0mTextFileReader\u001b[0m\u001b[0;34m(\u001b[0m\u001b[0mfilepath_or_buffer\u001b[0m\u001b[0;34m,\u001b[0m \u001b[0;34m**\u001b[0m\u001b[0mkwds\u001b[0m\u001b[0;34m)\u001b[0m\u001b[0;34m\u001b[0m\u001b[0m\n\u001b[0m\u001b[1;32m    390\u001b[0m \u001b[0;34m\u001b[0m\u001b[0m\n\u001b[1;32m    391\u001b[0m     \u001b[0;32mif\u001b[0m \u001b[0;34m(\u001b[0m\u001b[0mnrows\u001b[0m \u001b[0;32mis\u001b[0m \u001b[0;32mnot\u001b[0m \u001b[0mNone\u001b[0m\u001b[0;34m)\u001b[0m \u001b[0;32mand\u001b[0m \u001b[0;34m(\u001b[0m\u001b[0mchunksize\u001b[0m \u001b[0;32mis\u001b[0m \u001b[0;32mnot\u001b[0m \u001b[0mNone\u001b[0m\u001b[0;34m)\u001b[0m\u001b[0;34m:\u001b[0m\u001b[0;34m\u001b[0m\u001b[0m\n",
      "\u001b[0;32m/usr/local/lib/python2.7/site-packages/pandas/io/parsers.pyc\u001b[0m in \u001b[0;36m__init__\u001b[0;34m(self, f, engine, **kwds)\u001b[0m\n\u001b[1;32m    728\u001b[0m             \u001b[0mself\u001b[0m\u001b[0;34m.\u001b[0m\u001b[0moptions\u001b[0m\u001b[0;34m[\u001b[0m\u001b[0;34m'has_index_names'\u001b[0m\u001b[0;34m]\u001b[0m \u001b[0;34m=\u001b[0m \u001b[0mkwds\u001b[0m\u001b[0;34m[\u001b[0m\u001b[0;34m'has_index_names'\u001b[0m\u001b[0;34m]\u001b[0m\u001b[0;34m\u001b[0m\u001b[0m\n\u001b[1;32m    729\u001b[0m \u001b[0;34m\u001b[0m\u001b[0m\n\u001b[0;32m--> 730\u001b[0;31m         \u001b[0mself\u001b[0m\u001b[0;34m.\u001b[0m\u001b[0m_make_engine\u001b[0m\u001b[0;34m(\u001b[0m\u001b[0mself\u001b[0m\u001b[0;34m.\u001b[0m\u001b[0mengine\u001b[0m\u001b[0;34m)\u001b[0m\u001b[0;34m\u001b[0m\u001b[0m\n\u001b[0m\u001b[1;32m    731\u001b[0m \u001b[0;34m\u001b[0m\u001b[0m\n\u001b[1;32m    732\u001b[0m     \u001b[0;32mdef\u001b[0m \u001b[0mclose\u001b[0m\u001b[0;34m(\u001b[0m\u001b[0mself\u001b[0m\u001b[0;34m)\u001b[0m\u001b[0;34m:\u001b[0m\u001b[0;34m\u001b[0m\u001b[0m\n",
      "\u001b[0;32m/usr/local/lib/python2.7/site-packages/pandas/io/parsers.pyc\u001b[0m in \u001b[0;36m_make_engine\u001b[0;34m(self, engine)\u001b[0m\n\u001b[1;32m    921\u001b[0m     \u001b[0;32mdef\u001b[0m \u001b[0m_make_engine\u001b[0m\u001b[0;34m(\u001b[0m\u001b[0mself\u001b[0m\u001b[0;34m,\u001b[0m \u001b[0mengine\u001b[0m\u001b[0;34m=\u001b[0m\u001b[0;34m'c'\u001b[0m\u001b[0;34m)\u001b[0m\u001b[0;34m:\u001b[0m\u001b[0;34m\u001b[0m\u001b[0m\n\u001b[1;32m    922\u001b[0m         \u001b[0;32mif\u001b[0m \u001b[0mengine\u001b[0m \u001b[0;34m==\u001b[0m \u001b[0;34m'c'\u001b[0m\u001b[0;34m:\u001b[0m\u001b[0;34m\u001b[0m\u001b[0m\n\u001b[0;32m--> 923\u001b[0;31m             \u001b[0mself\u001b[0m\u001b[0;34m.\u001b[0m\u001b[0m_engine\u001b[0m \u001b[0;34m=\u001b[0m \u001b[0mCParserWrapper\u001b[0m\u001b[0;34m(\u001b[0m\u001b[0mself\u001b[0m\u001b[0;34m.\u001b[0m\u001b[0mf\u001b[0m\u001b[0;34m,\u001b[0m \u001b[0;34m**\u001b[0m\u001b[0mself\u001b[0m\u001b[0;34m.\u001b[0m\u001b[0moptions\u001b[0m\u001b[0;34m)\u001b[0m\u001b[0;34m\u001b[0m\u001b[0m\n\u001b[0m\u001b[1;32m    924\u001b[0m         \u001b[0;32melse\u001b[0m\u001b[0;34m:\u001b[0m\u001b[0;34m\u001b[0m\u001b[0m\n\u001b[1;32m    925\u001b[0m             \u001b[0;32mif\u001b[0m \u001b[0mengine\u001b[0m \u001b[0;34m==\u001b[0m \u001b[0;34m'python'\u001b[0m\u001b[0;34m:\u001b[0m\u001b[0;34m\u001b[0m\u001b[0m\n",
      "\u001b[0;32m/usr/local/lib/python2.7/site-packages/pandas/io/parsers.pyc\u001b[0m in \u001b[0;36m__init__\u001b[0;34m(self, src, **kwds)\u001b[0m\n\u001b[1;32m   1388\u001b[0m         \u001b[0mkwds\u001b[0m\u001b[0;34m[\u001b[0m\u001b[0;34m'allow_leading_cols'\u001b[0m\u001b[0;34m]\u001b[0m \u001b[0;34m=\u001b[0m \u001b[0mself\u001b[0m\u001b[0;34m.\u001b[0m\u001b[0mindex_col\u001b[0m \u001b[0;32mis\u001b[0m \u001b[0;32mnot\u001b[0m \u001b[0mFalse\u001b[0m\u001b[0;34m\u001b[0m\u001b[0m\n\u001b[1;32m   1389\u001b[0m \u001b[0;34m\u001b[0m\u001b[0m\n\u001b[0;32m-> 1390\u001b[0;31m         \u001b[0mself\u001b[0m\u001b[0;34m.\u001b[0m\u001b[0m_reader\u001b[0m \u001b[0;34m=\u001b[0m \u001b[0m_parser\u001b[0m\u001b[0;34m.\u001b[0m\u001b[0mTextReader\u001b[0m\u001b[0;34m(\u001b[0m\u001b[0msrc\u001b[0m\u001b[0;34m,\u001b[0m \u001b[0;34m**\u001b[0m\u001b[0mkwds\u001b[0m\u001b[0;34m)\u001b[0m\u001b[0;34m\u001b[0m\u001b[0m\n\u001b[0m\u001b[1;32m   1391\u001b[0m \u001b[0;34m\u001b[0m\u001b[0m\n\u001b[1;32m   1392\u001b[0m         \u001b[0;31m# XXX\u001b[0m\u001b[0;34m\u001b[0m\u001b[0;34m\u001b[0m\u001b[0m\n",
      "\u001b[0;32mpandas/parser.pyx\u001b[0m in \u001b[0;36mpandas.parser.TextReader.__cinit__ (pandas/parser.c:4184)\u001b[0;34m()\u001b[0m\n",
      "\u001b[0;32mpandas/parser.pyx\u001b[0m in \u001b[0;36mpandas.parser.TextReader._setup_parser_source (pandas/parser.c:8449)\u001b[0;34m()\u001b[0m\n",
      "\u001b[0;31mIOError\u001b[0m: File donations.csv does not exist"
     ]
    }
   ],
   "source": [
    "df = pd.read_csv(\"donations.csv\")"
   ]
  },
  {
   "cell_type": "markdown",
   "metadata": {},
   "source": [
    "Q2) Please display the information on the data. How much data are we dealing with? What are the names of colums?"
   ]
  },
  {
   "cell_type": "code",
   "execution_count": 182,
   "metadata": {},
   "outputs": [
    {
     "name": "stdout",
     "output_type": "stream",
     "text": [
      "(4084074, 16)\n"
     ]
    },
    {
     "data": {
      "text/plain": [
       "['cmte_id',\n",
       " 'cand_id',\n",
       " 'cand_nm',\n",
       " 'contbr_nm',\n",
       " 'contbr_city',\n",
       " 'contbr_st',\n",
       " 'contbr_zip',\n",
       " 'contbr_employer',\n",
       " 'contbr_occupation',\n",
       " 'contb_receipt_amt',\n",
       " 'contb_receipt_dt',\n",
       " 'receipt_desc',\n",
       " 'memo_cd',\n",
       " 'memo_text',\n",
       " 'form_tp',\n",
       " 'file_num']"
      ]
     },
     "execution_count": 182,
     "metadata": {},
     "output_type": "execute_result"
    }
   ],
   "source": [
    "print(df.shape)\n",
    "list(df.columns.values)"
   ]
  },
  {
   "cell_type": "markdown",
   "metadata": {},
   "source": [
    "The size of the data is huge. It is better to use a small data set.\n",
    "\n",
    "Q3) Make a sample of which the size is 4000. (HINT: NUMPY.random.choice())"
   ]
  },
  {
   "cell_type": "code",
   "execution_count": 226,
   "metadata": {
    "collapsed": true
   },
   "outputs": [],
   "source": [
    "rows = np.random.choice(df.index.values, 4000)\n",
    "sample_df = df.ix[rows]"
   ]
  },
  {
   "cell_type": "markdown",
   "metadata": {},
   "source": [
    "It would be intersting to see the amount of money for each candidate.\n",
    "\n",
    "Q4) Please draw a stacked histgram using 'contb_receipt_amout' for candidates."
   ]
  },
  {
   "cell_type": "code",
   "execution_count": 227,
   "metadata": {},
   "outputs": [
    {
     "data": {
      "text/plain": [
       "<matplotlib.axes._subplots.AxesSubplot at 0x139bcc390>"
      ]
     },
     "execution_count": 227,
     "metadata": {},
     "output_type": "execute_result"
    },
    {
     "data": {
      "image/png": "[encoded data removed]",
      "text/plain": [
       "<matplotlib.figure.Figure at 0x138f69d10>"
      ]
     },
     "metadata": {},
     "output_type": "display_data"
    }
   ],
   "source": [
    "plt.figure()\n",
    "sample_df['contb_receipt_amt'].plot.hist(stacked=True, bins=20)"
   ]
  },
  {
   "cell_type": "markdown",
   "metadata": {},
   "source": [
    "We want to compute the total amount of donatoins for each day and draw a chart.\n",
    "\n",
    "Q5) In order to do this, please parse the 'contb_receipt_dt' column using datetime module."
   ]
  },
  {
   "cell_type": "code",
   "execution_count": 228,
   "metadata": {},
   "outputs": [
    {
     "name": "stderr",
     "output_type": "stream",
     "text": [
      "/usr/local/lib/python2.7/site-packages/ipykernel_launcher.py:2: SettingWithCopyWarning: \n",
      "A value is trying to be set on a copy of a slice from a DataFrame.\n",
      "Try using .loc[row_indexer,col_indexer] = value instead\n",
      "\n",
      "See the caveats in the documentation: http://pandas.pydata.org/pandas-docs/stable/indexing.html#indexing-view-versus-copy\n",
      "  \n"
     ]
    },
    {
     "data": {
      "text/html": [
       "<div>\n",
       "<table border=\"1\" class=\"dataframe\">\n",
       "  <thead>\n",
       "    <tr style=\"text-align: right;\">\n",
       "      <th></th>\n",
       "      <th>cmte_id</th>\n",
       "      <th>cand_id</th>\n",
       "      <th>cand_nm</th>\n",
       "      <th>contbr_nm</th>\n",
       "      <th>contbr_city</th>\n",
       "      <th>contbr_st</th>\n",
       "      <th>contbr_zip</th>\n",
       "      <th>contbr_employer</th>\n",
       "      <th>contbr_occupation</th>\n",
       "      <th>contb_receipt_amt</th>\n",
       "      <th>contb_receipt_dt</th>\n",
       "      <th>receipt_desc</th>\n",
       "      <th>memo_cd</th>\n",
       "      <th>memo_text</th>\n",
       "      <th>form_tp</th>\n",
       "      <th>file_num</th>\n",
       "    </tr>\n",
       "  </thead>\n",
       "  <tbody>\n",
       "    <tr>\n",
       "      <th>141893</th>\n",
       "      <td>C00430470</td>\n",
       "      <td>P80002801</td>\n",
       "      <td>McCain, John S</td>\n",
       "      <td>BUTLER, SANDRA BRANTLEY MRS.</td>\n",
       "      <td>IRWINTON</td>\n",
       "      <td>GA</td>\n",
       "      <td>3.10422e+08</td>\n",
       "      <td>SELF-EMPLOYED</td>\n",
       "      <td>SELF-EMPLOYED</td>\n",
       "      <td>100.0</td>\n",
       "      <td>2008-08-21</td>\n",
       "      <td>NaN</td>\n",
       "      <td>NaN</td>\n",
       "      <td>NaN</td>\n",
       "      <td>SA17A</td>\n",
       "      <td>391336</td>\n",
       "    </tr>\n",
       "    <tr>\n",
       "      <th>2530911</th>\n",
       "      <td>C00431445</td>\n",
       "      <td>P80003338</td>\n",
       "      <td>Obama, Barack</td>\n",
       "      <td>HOOD, ERNEST</td>\n",
       "      <td>NEW YORK</td>\n",
       "      <td>NY</td>\n",
       "      <td>100383739</td>\n",
       "      <td>THEATRE FOR A NEW AUDIENCE</td>\n",
       "      <td>DIRECTOR OF DEVELOPMENT</td>\n",
       "      <td>250.0</td>\n",
       "      <td>2008-09-13</td>\n",
       "      <td>NaN</td>\n",
       "      <td>NaN</td>\n",
       "      <td>NaN</td>\n",
       "      <td>SA17A</td>\n",
       "      <td>753817</td>\n",
       "    </tr>\n",
       "    <tr>\n",
       "      <th>1690190</th>\n",
       "      <td>C00431445</td>\n",
       "      <td>P80003338</td>\n",
       "      <td>Obama, Barack</td>\n",
       "      <td>TERESA, BENJAMIN</td>\n",
       "      <td>CHICAGO</td>\n",
       "      <td>IL</td>\n",
       "      <td>6.06603e+08</td>\n",
       "      <td>CITY OF CHICAGO</td>\n",
       "      <td>INTERN</td>\n",
       "      <td>25.0</td>\n",
       "      <td>2008-02-21</td>\n",
       "      <td>NaN</td>\n",
       "      <td>NaN</td>\n",
       "      <td>NaN</td>\n",
       "      <td>SA17A</td>\n",
       "      <td>360401</td>\n",
       "    </tr>\n",
       "    <tr>\n",
       "      <th>936525</th>\n",
       "      <td>C00431445</td>\n",
       "      <td>P80003338</td>\n",
       "      <td>Obama, Barack</td>\n",
       "      <td>LUNELL, LINDA</td>\n",
       "      <td>SAN JOSE</td>\n",
       "      <td>CA</td>\n",
       "      <td>951391151</td>\n",
       "      <td>NOT EMPLOYED</td>\n",
       "      <td>RETIRED</td>\n",
       "      <td>50.0</td>\n",
       "      <td>2008-04-30</td>\n",
       "      <td>NaN</td>\n",
       "      <td>NaN</td>\n",
       "      <td>NaN</td>\n",
       "      <td>SA17A</td>\n",
       "      <td>753671</td>\n",
       "    </tr>\n",
       "    <tr>\n",
       "      <th>1668869</th>\n",
       "      <td>C00431445</td>\n",
       "      <td>P80003338</td>\n",
       "      <td>Obama, Barack</td>\n",
       "      <td>MCDONALD, DOUG</td>\n",
       "      <td>CHICAGO</td>\n",
       "      <td>IL</td>\n",
       "      <td>60605</td>\n",
       "      <td>NOT EMPLOYED</td>\n",
       "      <td>STUDENT</td>\n",
       "      <td>25.0</td>\n",
       "      <td>2008-04-21</td>\n",
       "      <td>NaN</td>\n",
       "      <td>NaN</td>\n",
       "      <td>NaN</td>\n",
       "      <td>SA17A</td>\n",
       "      <td>753671</td>\n",
       "    </tr>\n",
       "  </tbody>\n",
       "</table>\n",
       "</div>"
      ],
      "text/plain": [
       "           cmte_id    cand_id         cand_nm                     contbr_nm  \\\n",
       "141893   C00430470  P80002801  McCain, John S  BUTLER, SANDRA BRANTLEY MRS.   \n",
       "2530911  C00431445  P80003338   Obama, Barack                  HOOD, ERNEST   \n",
       "1690190  C00431445  P80003338   Obama, Barack              TERESA, BENJAMIN   \n",
       "936525   C00431445  P80003338   Obama, Barack                 LUNELL, LINDA   \n",
       "1668869  C00431445  P80003338   Obama, Barack                MCDONALD, DOUG   \n",
       "\n",
       "        contbr_city contbr_st   contbr_zip             contbr_employer  \\\n",
       "141893     IRWINTON        GA  3.10422e+08               SELF-EMPLOYED   \n",
       "2530911    NEW YORK        NY    100383739  THEATRE FOR A NEW AUDIENCE   \n",
       "1690190     CHICAGO        IL  6.06603e+08             CITY OF CHICAGO   \n",
       "936525     SAN JOSE        CA    951391151                NOT EMPLOYED   \n",
       "1668869     CHICAGO        IL        60605                NOT EMPLOYED   \n",
       "\n",
       "               contbr_occupation  contb_receipt_amt contb_receipt_dt  \\\n",
       "141893             SELF-EMPLOYED              100.0       2008-08-21   \n",
       "2530911  DIRECTOR OF DEVELOPMENT              250.0       2008-09-13   \n",
       "1690190                   INTERN               25.0       2008-02-21   \n",
       "936525                   RETIRED               50.0       2008-04-30   \n",
       "1668869                  STUDENT               25.0       2008-04-21   \n",
       "\n",
       "        receipt_desc memo_cd memo_text form_tp  file_num  \n",
       "141893           NaN     NaN       NaN   SA17A    391336  \n",
       "2530911          NaN     NaN       NaN   SA17A    753817  \n",
       "1690190          NaN     NaN       NaN   SA17A    360401  \n",
       "936525           NaN     NaN       NaN   SA17A    753671  \n",
       "1668869          NaN     NaN       NaN   SA17A    753671  "
      ]
     },
     "execution_count": 228,
     "metadata": {},
     "output_type": "execute_result"
    }
   ],
   "source": [
    "import datetime as dt\n",
    "sample_df['contb_receipt_dt'] = sample_df.apply(lambda row: dt.datetime.strptime(row['contb_receipt_dt'],'%d-%b-%y'), axis = 1)\n",
    "sample_df.head()"
   ]
  },
  {
   "cell_type": "markdown",
   "metadata": {},
   "source": [
    "Q5) Please compute the total amount of donations for each day, and create a chart for a 'Obama, Barack' (HINT: dataframe - groupby() )"
   ]
  },
  {
   "cell_type": "code",
   "execution_count": 229,
   "metadata": {
    "scrolled": true
   },
   "outputs": [
    {
     "data": {
      "text/plain": [
       "<matplotlib.axes._subplots.AxesSubplot at 0x13a10b850>"
      ]
     },
     "execution_count": 229,
     "metadata": {},
     "output_type": "execute_result"
    },
    {
     "data": {
      "image/png": "[encoded data removed]",
      "text/plain": [
       "<matplotlib.figure.Figure at 0x138f69350>"
      ]
     },
     "metadata": {},
     "output_type": "display_data"
    }
   ],
   "source": [
    "temp = sample_df[sample_df['cand_nm'] == 'Obama, Barack']\n",
    "total_donation_per_day = temp.groupby('contb_receipt_dt')['contb_receipt_amt'].sum()\n",
    "total_donation_per_day.plot()"
   ]
  },
  {
   "cell_type": "markdown",
   "metadata": {},
   "source": [
    "Q6) Please plot Obama ('Obama, Barack') vs. McCain ('McCain, John S') on the same chart. "
   ]
  },
  {
   "cell_type": "code",
   "execution_count": 250,
   "metadata": {},
   "outputs": [
    {
     "data": {
      "image/png": "[encoded data removed]",
      "text/plain": [
       "<matplotlib.figure.Figure at 0x1294cca50>"
      ]
     },
     "metadata": {},
     "output_type": "display_data"
    }
   ],
   "source": [
    "data1 = sample_df[sample_df['cand_nm'] == 'Obama, Barack']\n",
    "data2 = sample_df[sample_df['cand_nm'] == 'McCain, John S']\n",
    "\n",
    "data1_1 = data1.groupby('contb_receipt_dt')['contb_receipt_amt'].sum()\n",
    "data2_1 = data2.groupby('contb_receipt_dt')['contb_receipt_amt'].sum()\n",
    "\n",
    "plt.plot(data1_1, label=\"Obama\")\n",
    "plt.plot(data2_1, label=\"McCain\")\n",
    "plt.legend(loc = 'upper left')\n",
    "plt.show()"
   ]
  },
  {
   "cell_type": "markdown",
   "metadata": {},
   "source": [
    "Q7) Please draw the cumulative donations for Obama ('Obama, Barack') vs. McCain ('McCain, John S')."
   ]
  },
  {
   "cell_type": "code",
   "execution_count": 232,
   "metadata": {},
   "outputs": [
    {
     "data": {
      "image/png": "[encoded data removed]",
      "text/plain": [
       "<matplotlib.figure.Figure at 0x11ad5df50>"
      ]
     },
     "metadata": {},
     "output_type": "display_data"
    }
   ],
   "source": [
    "data1_2 = data1_1.cumsum()\n",
    "data2_2 = data2_1.cumsum()\n",
    "plt.plot(data1_2, label = 'Obama')\n",
    "plt.plot(data2_2, label = 'Barack')\n",
    "\n",
    "plt.legend(loc = 'upper left')\n",
    "plt.show()"
   ]
  },
  {
   "cell_type": "markdown",
   "metadata": {},
   "source": [
    "Q8) Please draw a histogram using 'contb_receipt_amt' for Obama and McCain."
   ]
  },
  {
   "cell_type": "code",
   "execution_count": 233,
   "metadata": {},
   "outputs": [
    {
     "data": {
      "image/png": "[encoded data removed]",
      "text/plain": [
       "<matplotlib.figure.Figure at 0x135be0890>"
      ]
     },
     "metadata": {},
     "output_type": "display_data"
    }
   ],
   "source": [
    "plt.hist(data1_1, label = 'Obama', bins = 100)\n",
    "plt.hist(data2_1, label = 'Barack', bins = 100)\n",
    "plt.legend(loc = 'upper right')\n",
    "plt.show()"
   ]
  },
  {
   "cell_type": "markdown",
   "metadata": {},
   "source": [
    "Q9) Now create a cumulative line graph of Obama and McCain' s donations. The x-axis should be the donation amount, and the y-axis should be the cumulative donations up to that amount."
   ]
  },
  {
   "cell_type": "code",
   "execution_count": 304,
   "metadata": {},
   "outputs": [
    {
     "data": {
      "image/png": "[encoded data removed]",
      "text/plain": [
       "<matplotlib.figure.Figure at 0x11af27bd0>"
      ]
     },
     "metadata": {},
     "output_type": "display_data"
    }
   ],
   "source": [
    "data3_1 = data1.groupby('contb_receipt_amt')['contb_receipt_amt'].sum()\n",
    "data3_1 = data3_1.cumsum()\n",
    "\n",
    "data3_2 = data2.groupby('contb_receipt_amt')['contb_receipt_amt'].sum()\n",
    "data3_2 = data3_2.cumsum()\n",
    "\n",
    "plt.plot(data3_1, label = 'Obama')\n",
    "plt.plot(data3_2, label = 'Barack')\n",
    "plt.legend(loc = 'upper left')\n",
    "plt.show()"
   ]
  },
  {
   "cell_type": "markdown",
   "metadata": {},
   "source": [
    "We can see that even though Obama and McCain have some very large contributions, the vast majority of their total donations were from small contributors. Also, not only did Obama get more donations, he also received larger donations."
   ]
  },
  {
   "cell_type": "markdown",
   "metadata": {},
   "source": [
    "Q10) Scatter plot for all candidates. The x-axis is the donation date and the y-axis is the donation amount."
   ]
  },
  {
   "cell_type": "code",
   "execution_count": 252,
   "metadata": {},
   "outputs": [
    {
     "data": {
      "text/plain": [
       "<matplotlib.collections.PathCollection at 0x12a5f14d0>"
      ]
     },
     "execution_count": 252,
     "metadata": {},
     "output_type": "execute_result"
    },
    {
     "data": {
      "image/png": "[encoded data removed]",
      "text/plain": [
       "<matplotlib.figure.Figure at 0x128453b90>"
      ]
     },
     "metadata": {},
     "output_type": "display_data"
    }
   ],
   "source": [
    "plt.scatter(sample_df['contb_receipt_dt'].tolist(), sample_df['contb_receipt_amt'].tolist())"
   ]
  },
  {
   "cell_type": "markdown",
   "metadata": {},
   "source": [
    "Q11) Scatter plot of re-attribution by spouses for all candidates. Find all re-attribution by spouses data points for each candidate and plot them on a scatter plot. The x-axis is the donation date and the y-axis is the donation amount."
   ]
  },
  {
   "cell_type": "code",
   "execution_count": 324,
   "metadata": {},
   "outputs": [
    {
     "name": "stdout",
     "output_type": "stream",
     "text": [
      "          cmte_id    cand_id              cand_nm  \\\n",
      "86758   C00430470  P80002801       McCain, John S   \n",
      "111500  C00430470  P80002801       McCain, John S   \n",
      "18520   C00430470  P80002801       McCain, John S   \n",
      "156009  C00430470  P80002801       McCain, John S   \n",
      "72148   C00430470  P80002801       McCain, John S   \n",
      "60104   C00430470  P80002801       McCain, John S   \n",
      "305615  C00430470  P80002801       McCain, John S   \n",
      "94634   C00430470  P80002801       McCain, John S   \n",
      "17984   C00430470  P80002801       McCain, John S   \n",
      "409021  C00430512  P00003251  Giuliani, Rudolph W   \n",
      "\n",
      "                           contbr_nm      contbr_city contbr_st   contbr_zip  \\\n",
      "86758           SCOTT, ELLEN M. MRS.           DENVER        CO    802021086   \n",
      "111500       CARRILLO, ELENA P. MRS.            MIAMI        FL    331301112   \n",
      "18520          SPENCER, MARLANE MRS.        FLAGSTAFF        AZ  8.60042e+08   \n",
      "156009        WILLMOTT, MICHELE MRS.          CHICAGO        IL  6.06014e+08   \n",
      "72148   THOMPSON, CHARLES THOMAS MR.     HILLSBOROUGH        CA    940106131   \n",
      "60104            BERGLUND, STEVE MR.     MONTE SERENO        CA  9.50302e+08   \n",
      "305615              LEHMAN, JOHN MR.          NEWTOWN        PA    189402816   \n",
      "94634             KELLOGG, TOMMY MR.    OLD GREENWICH        CT     68702312   \n",
      "17984             MILLER, JOE F. MR.  PARADISE VALLEY        AZ  8.52534e+08   \n",
      "409021            SMITH, BRENDA MRS.       SCOTTSDALE        AZ    852592654   \n",
      "\n",
      "                               contbr_employer  \\\n",
      "86758   INFORMATION REQUESTED PER BEST EFFORTS   \n",
      "111500                               HOMEMAKER   \n",
      "18520   INFORMATION REQUESTED PER BEST EFFORTS   \n",
      "156009  INFORMATION REQUESTED PER BEST EFFORTS   \n",
      "72148                   T.W.M. MANAGEMENT INC.   \n",
      "60104                       TRIMBLE NAVIGATION   \n",
      "305615                           SELF-EMPLOYED   \n",
      "94634                 W.R. BERKLEY CORPORATION   \n",
      "17984                            SELF-EMPLOYED   \n",
      "409021                 AMERICAN REALTY BROKERS   \n",
      "\n",
      "                             contbr_occupation  contb_receipt_amt  \\\n",
      "86758   INFORMATION REQUESTED PER BEST EFFORTS             2300.0   \n",
      "111500                               HOMEMAKER             2300.0   \n",
      "18520   INFORMATION REQUESTED PER BEST EFFORTS             2300.0   \n",
      "156009  INFORMATION REQUESTED PER BEST EFFORTS            -2300.0   \n",
      "72148                         RESTAURANT OWNER            -2300.0   \n",
      "60104                                      CEO            -2300.0   \n",
      "305615                                  ARTIST             2300.0   \n",
      "94634                              REINSURANCE             -111.0   \n",
      "17984                             RESTAURATEUR             -150.0   \n",
      "409021                                 REALTOR             2000.0   \n",
      "\n",
      "       contb_receipt_dt               receipt_desc memo_cd  \\\n",
      "86758        2008-03-14  REATTRIBUTION FROM SPOUSE       X   \n",
      "111500       2008-05-06  REATTRIBUTION FROM SPOUSE       X   \n",
      "18520        2008-03-28  REATTRIBUTION FROM SPOUSE       X   \n",
      "156009       2008-04-30    REATTRIBUTION TO SPOUSE       X   \n",
      "72148        2008-04-22    REATTRIBUTION TO SPOUSE       X   \n",
      "60104        2008-07-17    REATTRIBUTION TO SPOUSE       X   \n",
      "305615       2007-08-20  REATTRIBUTION FROM SPOUSE       X   \n",
      "94634        2008-04-10    REATTRIBUTION TO SPOUSE       X   \n",
      "17984        2008-04-02    REATTRIBUTION TO SPOUSE       X   \n",
      "409021       2007-07-27  REATTRIBUTION FROM SPOUSE       X   \n",
      "\n",
      "                        memo_text form_tp  file_num  \n",
      "86758   REATTRIBUTION FROM SPOUSE   SA17A    346233  \n",
      "111500  REATTRIBUTION FROM SPOUSE   SA17A    364148  \n",
      "18520   REATTRIBUTION FROM SPOUSE   SA17A    346233  \n",
      "156009    REATTRIBUTION TO SPOUSE   SA17A    364146  \n",
      "72148     REATTRIBUTION TO SPOUSE   SA17A    364146  \n",
      "60104     REATTRIBUTION TO SPOUSE   SA17A    377957  \n",
      "305615  REATTRIBUTION FROM SPOUSE   SA17A    315387  \n",
      "94634     REATTRIBUTION TO SPOUSE   SA17A    364146  \n",
      "17984     REATTRIBUTION TO SPOUSE   SA17A    364146  \n",
      "409021  REATTRIBUTION FROM SPOUSE   SA17A    327107  \n"
     ]
    },
    {
     "data": {
      "image/png": "[encoded data removed]",
      "text/plain": [
       "<matplotlib.figure.Figure at 0x142166dd0>"
      ]
     },
     "metadata": {},
     "output_type": "display_data"
    }
   ],
   "source": [
    "sample_df_new = sample_df[(sample_df['receipt_desc'] == 'REATTRIBUTION TO SPOUSE') | (sample_df['receipt_desc'] == 'REATTRIBUTION FROM SPOUSE')] \n",
    "plt.scatter(sample_df_new['contb_receipt_dt'].tolist(), sample_df_new['contb_receipt_amt'].tolist())\n",
    "print(sample_df_new)\n"
   ]
  },
  {
   "cell_type": "markdown",
   "metadata": {},
   "source": [
    "Q12) Let's now filter the contributions to only see the cumulative \"reattrbituion to spouse\" donations. Which candidate do the dark, hooded CEOs prefer? You will need to find the name of the field that contains the \"reattribution\" text, and filter on that field. Depending on how you filter it, you may get different results. Try out a few ways to see what happens."
   ]
  },
  {
   "cell_type": "code",
   "execution_count": 331,
   "metadata": {},
   "outputs": [
    {
     "name": "stdout",
     "output_type": "stream",
     "text": [
      "60104    McCain, John S\n",
      "Name: cand_nm, dtype: object\n"
     ]
    }
   ],
   "source": [
    "sample_df_new = sample_df[sample_df['receipt_desc'] == 'REATTRIBUTION TO SPOUSE']\n",
    "sample_df_new.describe\n",
    "print((sample_df_new['cand_nm'])[sample_df_new['contbr_occupation'] == 'CEO'])\n",
    "print((sample_df_new['cand_nm'])[sample_df_new['contbr_occupation'] == 'CEO'])"
   ]
  },
  {
   "cell_type": "code",
   "execution_count": null,
   "metadata": {
    "collapsed": true
   },
   "outputs": [],
   "source": []
  },
  {
   "cell_type": "code",
   "execution_count": null,
   "metadata": {
    "collapsed": true
   },
   "outputs": [],
   "source": []
  },
  {
   "cell_type": "code",
   "execution_count": null,
   "metadata": {
    "collapsed": true
   },
   "outputs": [],
   "source": []
  },
  {
   "cell_type": "code",
   "execution_count": null,
   "metadata": {
    "collapsed": true
   },
   "outputs": [],
   "source": []
  }
 ],
 "metadata": {
  "kernelspec": {
   "display_name": "Python 2",
   "language": "python",
   "name": "python2"
  },
  "language_info": {
   "codemirror_mode": {
    "name": "ipython",
    "version": 2
   },
   "file_extension": ".py",
   "mimetype": "text/x-python",
   "name": "python",
   "nbconvert_exporter": "python",
   "pygments_lexer": "ipython2",
   "version": "2.7.13"
  }
 },
 "nbformat": 4,
 "nbformat_minor": 1
}
